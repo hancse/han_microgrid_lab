{
 "cells": [
  {
   "cell_type": "code",
   "execution_count": 13,
   "id": "9c9549df",
   "metadata": {},
   "outputs": [],
   "source": [
    "import math\n",
    "import itertools\n",
    "import pytz\n",
    "import os\n",
    "import json\n",
    "import pandas as pd\n",
    "import numpy as np                       #for np.array\n",
    "import time                              #for time.sleep\n",
    "\n",
    "import TriPhaseController as tpc\n",
    "\n",
    "from IPython.display import clear_output\n",
    "from IPython.display import display\n",
    "from pathlib import Path\n",
    "%matplotlib inline"
   ]
  },
  {
   "cell_type": "code",
   "execution_count": 16,
   "id": "b807d529",
   "metadata": {},
   "outputs": [],
   "source": [
    "weather_key = '49ed35fbd71aca46756c7d5ef369ce11'"
   ]
  },
  {
   "cell_type": "code",
   "execution_count": 44,
   "id": "ac359d5c",
   "metadata": {},
   "outputs": [],
   "source": [
    "from pyowm.owm import OWM\n",
    "from pyowm.utils import timestamps\n",
    "from datetime import datetime, timedelta, timezone\n",
    "from pyowm.utils import timestamps, formatting \n",
    "\n",
    "def get_current_weather(key, future_hours):\n",
    "    \n",
    "    \"\"\" Arg:\n",
    "        - key(str): key get from owm site\n",
    "        - future_hours(int): number of future hours\n",
    "   \n",
    "    Returns:\n",
    "        - weather : dataframe with temperature,cloud and wind data of future hours\n",
    "    \"\"\"\n",
    "    owm = OWM(key)\n",
    "    mgr = owm.weather_manager()\n",
    "    one_call_future = mgr.one_call(lat=51.98787601885725, lon=5.950209138832937)\n",
    "    \n",
    "\n",
    "    future_weather = pd.DataFrame(columns = ['temperature','cloud','wind','rain'])\n",
    "\n",
    "    for i in range(len(one_call_future.forecast_hourly)):\n",
    "\n",
    "        temp        = one_call_future.forecast_hourly[i].ref_time\n",
    "        temp        = datetime.fromtimestamp(temp).strftime('%Y-%m-%d %H:%M:%S')\n",
    "        #print(temp)\n",
    "        cloud       = one_call_future.forecast_hourly[i].clouds\n",
    "        cloud       = np.rint(cloud*8/100)\n",
    "        temperature = one_call_future.forecast_hourly[i].temperature('celsius')['temp']\n",
    "        wind        = one_call_future.forecast_hourly[i].wind()['speed']\n",
    "\n",
    "        if one_call_future.forecast_hourly[i].status == 'rain' or one_call_future.forecast_hourly[i].status == 'Rain':\n",
    "            rain = 1\n",
    "        else: rain = 0\n",
    "\n",
    "        future_weather = future_weather.append({'temperature': temperature,'cloud': cloud,\n",
    "                                                'wind': wind,'rain': rain},ignore_index=True)\n",
    "        \n",
    "    future_weather = future_weather[1:future_hours+1]\n",
    "    return future_weather"
   ]
  },
  {
   "cell_type": "code",
   "execution_count": 45,
   "id": "d5489bde",
   "metadata": {},
   "outputs": [
    {
     "data": {
      "text/html": [
       "<div>\n",
       "<style scoped>\n",
       "    .dataframe tbody tr th:only-of-type {\n",
       "        vertical-align: middle;\n",
       "    }\n",
       "\n",
       "    .dataframe tbody tr th {\n",
       "        vertical-align: top;\n",
       "    }\n",
       "\n",
       "    .dataframe thead th {\n",
       "        text-align: right;\n",
       "    }\n",
       "</style>\n",
       "<table border=\"1\" class=\"dataframe\">\n",
       "  <thead>\n",
       "    <tr style=\"text-align: right;\">\n",
       "      <th></th>\n",
       "      <th>temperature</th>\n",
       "      <th>cloud</th>\n",
       "      <th>wind</th>\n",
       "      <th>rain</th>\n",
       "    </tr>\n",
       "  </thead>\n",
       "  <tbody>\n",
       "    <tr>\n",
       "      <th>1</th>\n",
       "      <td>7.78</td>\n",
       "      <td>7.0</td>\n",
       "      <td>1.43</td>\n",
       "      <td>0.0</td>\n",
       "    </tr>\n",
       "  </tbody>\n",
       "</table>\n",
       "</div>"
      ],
      "text/plain": [
       "   temperature  cloud  wind  rain\n",
       "1         7.78    7.0  1.43   0.0"
      ]
     },
     "execution_count": 45,
     "metadata": {},
     "output_type": "execute_result"
    }
   ],
   "source": [
    "get_current_weather(weather_key, 1)"
   ]
  },
  {
   "cell_type": "code",
   "execution_count": 4,
   "id": "db72a186",
   "metadata": {},
   "outputs": [],
   "source": [
    "import paho.mqtt.client as mqtt\n",
    "import paho.mqtt.publish as publish\n",
    "import paho.mqtt.subscribe as subscribe"
   ]
  },
  {
   "cell_type": "code",
   "execution_count": 5,
   "id": "ba7caff9",
   "metadata": {},
   "outputs": [],
   "source": [
    "def callback_sample(SOC, PV_arr, EV_arr):\n",
    "    # Do something here\n",
    "    I = 6.66\n",
    "    return [I, I+1.11, I+2.22, I+3.33, I+2.22, I+1.11]"
   ]
  },
  {
   "cell_type": "code",
   "execution_count": 6,
   "id": "68913440",
   "metadata": {},
   "outputs": [],
   "source": [
    "test_model = tpc.Controller()\n",
    "test_model.set_advanced_callback(callback_sample)\n",
    "# TODO Implement set_demo_callback() for demo mode\n",
    "#test_model.start_model()\n",
    "#test_model.m.stop()"
   ]
  },
  {
   "cell_type": "code",
   "execution_count": null,
   "id": "6af31106",
   "metadata": {},
   "outputs": [],
   "source": [
    "testmode_topic = \"HANevse/control/testmode\"\n",
    "data_topic = \"HANevse/control/data\"\n",
    "\n",
    "his_PV_topic = \"HANevse/history/PV\"\n",
    "his_EV_topic = \"HANevse/history/EV\"\n",
    "\n",
    "SOC_topic = \"HANevse/predict/SOC\"\n",
    "I_topic = \"HANevse/predict/I\"\n",
    "weather_topic = \"HANevse/predict/weather\"\n",
    "echo_topic = \"HANevse/predict/data\"\n",
    "I_temporary = \"HANevse/predict/Itemp\" #To be removed after the connection in the lab is fixed"
   ]
  },
  {
   "cell_type": "code",
   "execution_count": null,
   "id": "037070f7",
   "metadata": {},
   "outputs": [],
   "source": [
    "data_time = time.time()\n",
    "data_arr = []\n",
    "\n",
    "def on_message(client, userdata, message):\n",
    "    global test_model\n",
    "    \n",
    "    global data_arr\n",
    "    global data_time\n",
    "    \n",
    "    payload = str(message.payload.decode(\"utf-8\"))\n",
    "    topic = message.topic\n",
    "    qos = message.qos\n",
    "    retain = message.retain\n",
    "    \n",
    "    clear_output(wait=True)\n",
    "    print(\"\\t message received \", payload)\n",
    "    print(\"\\t message topic=\", topic)\n",
    "    print(\"\\t message qos=\", qos)\n",
    "    print(\"\\t message retain flag=\", retain)\n",
    "    \n",
    "    if (message.topic == testmode_topic):\n",
    "        value = int(payload)\n",
    "        test_model.set_demo_mode(value)\n",
    "    elif (message.topic == data_topic):\n",
    "        m_in = json.loads(payload)\n",
    "        data_time = time.time()\n",
    "        data_arr = m_in\n",
    "    \n",
    "        if test_model.is_demo():\n",
    "            SOC_data = test_model.power_control(data_arr)\n",
    "            client.publish(SOC_topic, payload=json.dumps(SOC_data), qos=0, retain=False)            \n",
    "            client.publish(echo_topic, payload=json.dumps(test_model.full_data), qos=0, retain=False)"
   ]
  },
  {
   "cell_type": "code",
   "execution_count": null,
   "id": "077e86df",
   "metadata": {},
   "outputs": [],
   "source": [
    "broker = \"broker.hivemq.com\"\n",
    "\n",
    "client = mqtt.Client(\"Test_machine_HAN_evse\")\n",
    "client.connect(broker)\n",
    "client.on_message = on_message        #attach function to callback\n",
    "client.subscribe(\"HANevse/control/#\")\n",
    "\n",
    "client.loop_start() "
   ]
  },
  {
   "cell_type": "code",
   "execution_count": null,
   "id": "9aef3a4c",
   "metadata": {},
   "outputs": [],
   "source": [
    "while True:\n",
    "    time.sleep(20)\n",
    "    #clear_output(wait=True)\n",
    "    \n",
    "    # Sent PV and EV data to draw the graph #######################################################\n",
    "    his_PV = test_model.Data.read_PV(5)\n",
    "    historical_PV = []\n",
    "    for i in range(len(his_PV)):\n",
    "        historical_PV.append({'PV':his_PV[i]})\n",
    "    client.publish(his_PV_topic, payload=json.dumps(historical_PV), qos=0, retain=False)\n",
    "    \n",
    "    his_EV = test_model.Data.read_EV(5)\n",
    "    historical_EV = []\n",
    "    for i in range(len(his_EV)):\n",
    "        historical_EV.append({'EV':his_EV[i]})\n",
    "    client.publish(his_EV_topic, payload=json.dumps(historical_EV), qos=0, retain=False)\n",
    "    ###############################################################################################\n",
    "    \n",
    "    #To be removed after the connection in the lab is fixed #######################################\n",
    "    I_now = test_model.m.capture_data('cs/i_out', samples = 1, decimation = 2)\n",
    "    [[[I_temp]]] = list(I_now.data.values())\n",
    "    client.publish(I_temporary, payload=json.dumps([{'I':I_temp}]), qos=0, retain=False)\n",
    "    ###############################################################################################\n",
    "    \n",
    "    \n",
    "    if not test_model.is_demo():\n",
    "        # ADD PREDICTION HERE #####################################################################\n",
    "        prediction = [{'EV': 12e3, 'PV': 10e3}, {'EV': 13e3, 'PV': 15e3}, {'EV': 14e3, 'PV': 20e3}, \n",
    "                      {'EV': 13e3, 'PV': 10e3}, {'EV': 10e3, 'PV': 5e3}]\n",
    "        ###########################################################################################\n",
    "        \n",
    "        I_arr = test_model.power_control(prediction)\n",
    "        \n",
    "        ############# Input I to triphase control #################################################\n",
    "        #\n",
    "        #\n",
    "        ###########################################################################################\n",
    "        \n",
    "        \n",
    "        I_sent = []\n",
    "        weather_sent = []\n",
    "        for row in I_arr:\n",
    "            I_sent.append({'I':row})\n",
    "        \n",
    "        weather_forecast = get_future_weather(weather_key,1)\n",
    "        weather_sent.append(weather_forecast.iloc[0].to_dict())\n",
    "        weather_sent[0]['I'] = I_sent[0]['I']\n",
    "        \n",
    "        client.publish(I_topic, payload=json.dumps(I_sent), qos=0, retain=False)\n",
    "        client.publish(weather_topic, payload=json.dumps(weather_sent), qos=0, retain=False)\n",
    "        client.publish(echo_topic, payload=json.dumps(test_model.full_data), qos=0, retain=False)\n",
    "        client.publish(SOC_topic, payload=json.dumps([{'SOC':test_model.SOC}]), qos=0, retain=False)  "
   ]
  },
  {
   "cell_type": "code",
   "execution_count": null,
   "id": "3a577f1d",
   "metadata": {},
   "outputs": [],
   "source": [
    "client.loop_stop()"
   ]
  },
  {
   "cell_type": "code",
   "execution_count": null,
   "id": "7ce7e357",
   "metadata": {},
   "outputs": [],
   "source": [
    "test_model.m.stop()"
   ]
  },
  {
   "cell_type": "code",
   "execution_count": null,
   "id": "f4ae30d1",
   "metadata": {},
   "outputs": [],
   "source": []
  }
 ],
 "metadata": {
  "kernelspec": {
   "display_name": "Python 3",
   "language": "python",
   "name": "python3"
  },
  "language_info": {
   "codemirror_mode": {
    "name": "ipython",
    "version": 3
   },
   "file_extension": ".py",
   "mimetype": "text/x-python",
   "name": "python",
   "nbconvert_exporter": "python",
   "pygments_lexer": "ipython3",
   "version": "3.8.10"
  }
 },
 "nbformat": 4,
 "nbformat_minor": 5
}
