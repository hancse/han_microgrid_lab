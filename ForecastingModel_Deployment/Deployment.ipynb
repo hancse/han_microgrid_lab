{
 "cells": [
  {
   "cell_type": "code",
   "execution_count": 1,
   "id": "8296ce40",
   "metadata": {},
   "outputs": [],
   "source": [
    "import pandas as pd # To load the data\n",
    "import matplotlib.pyplot as plt # To draw figures\n",
    "import matplotlib.pylab \n",
    "from datetime import datetime, timedelta # Handle datetime\n",
    "import numpy as np\n",
    "from fastai.collab import *\n",
    "from fastai.tabular import *\n",
    "from time import *\n",
    "from IPython import display as cleardisplay"
   ]
  },
  {
   "cell_type": "code",
   "execution_count": 2,
   "id": "900e5ae9",
   "metadata": {},
   "outputs": [],
   "source": [
    "import TriPhaseController as tpc"
   ]
  },
  {
   "cell_type": "code",
   "execution_count": 3,
   "id": "ce63a5ad",
   "metadata": {},
   "outputs": [],
   "source": [
    "db = tpc.Database()"
   ]
  },
  {
   "cell_type": "code",
   "execution_count": 4,
   "id": "5b354433",
   "metadata": {},
   "outputs": [],
   "source": [
    "from fastai.tabular.all import *"
   ]
  },
  {
   "cell_type": "code",
   "execution_count": 5,
   "id": "eee36736",
   "metadata": {},
   "outputs": [],
   "source": [
    "# Custom loss for multi-point forecasting\n",
    "\n",
    "def multiPointLoss(actual, predicted):\n",
    "    scores = list()\n",
    "    # calculate an RMSE score for each day\n",
    "    for i in range(actual.shape[1]):\n",
    "        # calculate mse\n",
    "        mse = F.mse_loss(actual[:, i], predicted[:, i])\n",
    "        # calculate rmse\n",
    "        rmse = torch.sqrt(mse)\n",
    "        # store\n",
    "        scores.append(rmse)\n",
    "    # calculate overall RMSE\n",
    "    s = 0\n",
    "    for row in range(actual.shape[0]):\n",
    "        for col in range(actual.shape[1]):\n",
    "            s += (actual[row, col] - predicted[row, col])**2\n",
    "    score = torch.sqrt(s / (actual.shape[0] * actual.shape[1]))\n",
    "    return score"
   ]
  },
  {
   "cell_type": "code",
   "execution_count": 6,
   "id": "77aab528",
   "metadata": {},
   "outputs": [],
   "source": [
    "import pathlib\n",
    "temp = pathlib.PosixPath\n",
    "pathlib.PosixPath = pathlib.WindowsPath"
   ]
  },
  {
   "cell_type": "code",
   "execution_count": 7,
   "id": "f19f44ff",
   "metadata": {},
   "outputs": [],
   "source": [
    "#from fastai import *\n",
    "learn = load_learner(\"FNN_multipoint_12p.pth\")"
   ]
  },
  {
   "cell_type": "code",
   "execution_count": 8,
   "id": "0878b9b1",
   "metadata": {},
   "outputs": [
    {
     "data": {
      "text/plain": [
       "TabularModel(\n",
       "  (embeds): ModuleList(\n",
       "    (0): Embedding(8, 5)\n",
       "    (1): Embedding(25, 10)\n",
       "    (2): Embedding(3, 3)\n",
       "    (3): Embedding(5, 4)\n",
       "  )\n",
       "  (emb_drop): Dropout(p=0.0, inplace=False)\n",
       "  (bn_cont): BatchNorm1d(3, eps=1e-05, momentum=0.1, affine=True, track_running_stats=True)\n",
       "  (layers): Sequential(\n",
       "    (0): LinBnDrop(\n",
       "      (0): Linear(in_features=25, out_features=1000, bias=False)\n",
       "      (1): ReLU(inplace=True)\n",
       "      (2): BatchNorm1d(1000, eps=1e-05, momentum=0.1, affine=True, track_running_stats=True)\n",
       "    )\n",
       "    (1): LinBnDrop(\n",
       "      (0): Linear(in_features=1000, out_features=500, bias=False)\n",
       "      (1): ReLU(inplace=True)\n",
       "      (2): BatchNorm1d(500, eps=1e-05, momentum=0.1, affine=True, track_running_stats=True)\n",
       "    )\n",
       "    (2): LinBnDrop(\n",
       "      (0): Linear(in_features=500, out_features=12, bias=True)\n",
       "    )\n",
       "    (3): SigmoidRange(low=0, high=36)\n",
       "  )\n",
       ")"
      ]
     },
     "execution_count": 8,
     "metadata": {},
     "output_type": "execute_result"
    }
   ],
   "source": [
    "learn.model.eval()"
   ]
  },
  {
   "cell_type": "code",
   "execution_count": 9,
   "id": "7b13d47b",
   "metadata": {},
   "outputs": [],
   "source": [
    "import pytz\n",
    "netherlands = pytz.timezone('Europe/Amsterdam')"
   ]
  },
  {
   "cell_type": "code",
   "execution_count": 10,
   "id": "d71f1a4b",
   "metadata": {},
   "outputs": [],
   "source": [
    "import holidays"
   ]
  },
  {
   "cell_type": "code",
   "execution_count": 11,
   "id": "6803f3f3",
   "metadata": {},
   "outputs": [],
   "source": [
    "from wwf.tab.export import *\n",
    "to_load = load_pandas('PP.pkl')"
   ]
  },
  {
   "cell_type": "code",
   "execution_count": 12,
   "id": "257f2e1f",
   "metadata": {},
   "outputs": [],
   "source": [
    "from threading import Timer"
   ]
  },
  {
   "cell_type": "code",
   "execution_count": 13,
   "id": "f9215f04",
   "metadata": {},
   "outputs": [],
   "source": [
    "import csv\n",
    "import collections"
   ]
  },
  {
   "cell_type": "code",
   "execution_count": 14,
   "id": "4ea98396",
   "metadata": {},
   "outputs": [],
   "source": [
    "import os\n",
    "import re\n",
    "def auto_save_file(path):\n",
    "    directory, file_name=os.path.split(path)\n",
    "    while os.path.isfile(path):\n",
    "        pattern=\"(\\d+)\\)\\.\"\n",
    "        if re.search(pattern, file_name) is None:\n",
    "            file_name=file_name.replace(\".\", \"(0).\")\n",
    "        else:\n",
    "            current_number=int(re.findall(pattern, file_name)[-1])\n",
    "            new_number=current_number + 1\n",
    "            file_name=file_name.replace(f\"({current_number}).\", f\"({new_number}).\")\n",
    "        path=os.path.join(directory + os.sep + file_name)\n",
    "    return file_name"
   ]
  },
  {
   "cell_type": "code",
   "execution_count": 15,
   "id": "c22a79ee",
   "metadata": {},
   "outputs": [],
   "source": [
    "\"\"\"\n",
    "At minute 10:\n",
    "    Read the last 3 line of Grid and PV from the database.\n",
    "    Store predictions:\n",
    "        Day(dd/mm/yy) & Hour & Energy of the last hour & Prediction 1 & ... & Prediction 12\n",
    "    Draw the graph:\n",
    "        Grpah includes 24 points: 12 previous points and 12 predicted points\n",
    "        Also previous predictions?\n",
    "\"\"\"\n",
    "# 12-point lists for historical data and predictions\n",
    "Measured_ls = collections.deque([], maxlen=12)\n",
    "OldPredictions_ls = collections.deque([], maxlen=12)\n",
    "NewPredictions_ls = collections.deque([], maxlen=12)\n",
    "\n",
    "header = ['Day', 'Weekday', 'Hour', 'E_LastHour', 'E_1', 'E_2', 'E_3', 'E_4', 'E_5', 'E_6', 'E_7', 'E_8', 'E_9', 'E_10', 'E_11', 'E_12']\n",
    "\n",
    "mypath =\".\"\n",
    "#fname = mypath + \"/\" + \"_prediction.txt\"\n",
    "fname = mypath + \"/\" + \"demand_prediction.csv\"\n",
    "demand_pred = auto_save_file(fname)\n",
    "\n",
    "with open(demand_pred, 'a', encoding='UTF8', newline='') as f:\n",
    "    writer = csv.writer(f)\n",
    "    writer.writerow(header)\n",
    "\n",
    "def chrontask():\n",
    "    # Get current hour\n",
    "    hour_now = datetime.today().hour\n",
    "    \n",
    "    # Read grid and PV data\n",
    "    grid_df = db.read_Grid_df(hours=4)\n",
    "    pv_df = db.read_PV_df(hours=4)\n",
    "    \n",
    "    # Append the row for current hour if there is not one\n",
    "    new_time = datetime.now().replace(microsecond=0, second=0, minute=0)\n",
    "    \n",
    "    if pv_df.index[-1].tz_localize('GMT').tz_convert(netherlands).hour != hour_now:\n",
    "        new_data = pd.DataFrame(pv_df[-1:].values, index=[new_time], columns=pv_df.columns)\n",
    "        pv_df = pd.concat([pv_df,new_data])\n",
    "        \n",
    "    if grid_df.index[-1].tz_localize('GMT').tz_convert(netherlands).hour != hour_now:\n",
    "        new_data = pd.DataFrame(grid_df[-1:].values, index=[new_time], columns=grid_df.columns)\n",
    "        grid_df = pd.concat([grid_df,new_data])\n",
    "    \n",
    "    # Calculate the energy demand of previous hours\n",
    "    ev_df = grid_df.copy()\n",
    "    ev_df['Energy_kWh'] = pv_df['Energy_kWh'] - grid_df['Energy_kWh']\n",
    "    \n",
    "    # Get weekday and hour from time index\n",
    "    ev_df['weekday']=ev_df.index.tz_localize('GMT').tz_convert(netherlands).day_of_week\n",
    "    ev_df['hour']=ev_df.index.tz_localize('GMT').tz_convert(netherlands).hour\n",
    "    \n",
    "    # Mark the holidays\n",
    "    ev_df['hols'] = pd.Series(ev_df.index).apply(lambda x: holidays.CountryHoliday('NL').get(x)).values\n",
    "    \n",
    "    # Add HAN breaks\n",
    "    # https://www.hanuniversity.com/en/study-and-living/studying-at-han/academic-calendar/#\n",
    "    # https://schoolholidayseurope.eu/school-holidays-holland/\n",
    "    ev_df.loc[(ev_df.index > '2022-05-01 23:00:00') & (ev_df.index < '2022-05-09 00:00:00'), 'hols'] = 'May holiday'\n",
    "    ev_df.loc[(ev_df.index > '2022-07-10 23:00:00') & (ev_df.index < '2022-08-15 00:00:00'), 'hols'] = 'Summer break'\n",
    "    ev_df.loc[(ev_df.index > '2022-10-21 23:00:00') & (ev_df.index < '2022-11-01 00:00:00'), 'hols'] = 'Fall holiday'\n",
    "    ev_df.loc[(ev_df.index > '2022-12-23 23:00:00') & (ev_df.index < '2023-01-09 00:00:00'), 'hols'] = 'Winter break'\n",
    "    ev_df.loc[(ev_df.index > '2023-02-17 23:00:00') & (ev_df.index < '2023-02-27 00:00:00'), 'hols'] = 'Spring holiday'\n",
    "    \n",
    "    # Clean the data\n",
    "    ev_df.loc[ev_df.Energy_kWh < 0,'Energy_kWh'] = 0\n",
    "    ev_df['is_hol'] = ~ev_df.isna()['hols']\n",
    "    ev_df['measure'] = 0\n",
    "    \n",
    "    # Other information\n",
    "    ev_df['E_1'] = ev_df['Energy_kWh']\n",
    "    ev_df['E_2'] = ev_df['Energy_kWh']\n",
    "    ev_df['E_3'] = ev_df['Energy_kWh']\n",
    "    ev_df['E_1'] = ev_df.E_1.shift(1)\n",
    "    ev_df['E_2'] = ev_df.E_2.shift(2)\n",
    "    ev_df['E_3'] = ev_df.E_3.shift(3)\n",
    "    \n",
    "    # Drop un-used data\n",
    "    ev_df.reset_index(inplace=True, drop=True)\n",
    "    ev_df.drop(['Energy_kWh','hols'], axis=1, inplace=True)\n",
    "    \n",
    "    # Get only the row of previous hour\n",
    "    ev_df_in = ev_df.iloc[-1:,:].copy()\n",
    "    ev_df_in.reset_index(inplace=True, drop=True)\n",
    "    \n",
    "    # Create dummy data to run the model, the values are not important\n",
    "    ev_df_in.loc[:,'Energy_kWh'] = 0.0\n",
    "    ev_df_in.loc[:,'Energy_kWh_1'] = 0.0\n",
    "    ev_df_in.loc[:,'Energy_kWh_2'] = 0.0\n",
    "    ev_df_in.loc[:,'Energy_kWh_3'] = 0.0\n",
    "    ev_df_in.loc[:,'Energy_kWh_4'] = 0.0\n",
    "    ev_df_in.loc[:,'Energy_kWh_5'] = 0.0\n",
    "    ev_df_in.loc[:,'Energy_kWh_6'] = 0.0\n",
    "    ev_df_in.loc[:,'Energy_kWh_7'] = 0.0\n",
    "    ev_df_in.loc[:,'Energy_kWh_8'] = 0.0\n",
    "    ev_df_in.loc[:,'Energy_kWh_9'] = 0.0\n",
    "    ev_df_in.loc[:,'Energy_kWh_10'] = 0.0\n",
    "    ev_df_in.loc[:,'Energy_kWh_11'] = 0.0\n",
    "    \n",
    "    # Preprocess data\n",
    "    to_test = to_load.train.new(ev_df_in)\n",
    "    to_test.process()\n",
    "    dls = to_test.dataloaders()\n",
    "    \n",
    "    # Predict\n",
    "    preds,targs = learn.get_preds(dl=dls[0])\n",
    "    \n",
    "    # Store data to queues\n",
    "    for i in preds[0]:\n",
    "        NewPredictions_ls.append(i)\n",
    "        \n",
    "    OldPredictions_ls.append(NewPredictions_ls[0])\n",
    "    Measured_ls.append(ev_df_in['E_1'].item())\n",
    "    \n",
    "    Predictions_ls = collections.deque([], maxlen=24)\n",
    "    for i in OldPredictions_ls:\n",
    "        Predictions_ls.append(i)\n",
    "    for i in NewPredictions_ls:\n",
    "        Predictions_ls.append(i)\n",
    "        \n",
    "    # Write data to .csv file\n",
    "    with open(demand_pred, 'a', encoding='UTF8', newline='') as f:\n",
    "        writer = csv.writer(f)\n",
    "        data = [datetime.today().strftime(\"%m/%d/%y\"), datetime.today().weekday(), hour_now, ev_df_in.iloc[0]['E_1'],\\\n",
    "               preds[0][0].numpy(),preds[0][1].numpy(),preds[0][2].numpy(),preds[0][3].numpy(),preds[0][4].numpy(),preds[0][5].numpy(),\\\n",
    "               preds[0][6].numpy(),preds[0][7].numpy(),preds[0][8].numpy(),preds[0][9].numpy(),preds[0][10].numpy(),preds[0][11].numpy()]\n",
    "        \n",
    "        writer.writerow(data)\n",
    "        \n",
    "    plt.clf()\n",
    "    plt.figure(figsize=(20,5))\n",
    "    plt.grid()\n",
    "    plt.plot(Predictions_ls, color='g', label='Predictions')\n",
    "    plt.plot(Measured_ls, color='r', label='Actual values')\n",
    "    \n",
    "    cleardisplay.clear_output(wait=True)\n",
    "    cleardisplay.display(plt.gcf())"
   ]
  },
  {
   "cell_type": "code",
   "execution_count": 16,
   "id": "a930a9cc",
   "metadata": {},
   "outputs": [],
   "source": [
    "import schedule"
   ]
  },
  {
   "cell_type": "code",
   "execution_count": 17,
   "id": "07b4026d",
   "metadata": {},
   "outputs": [],
   "source": [
    "#chrontask()"
   ]
  },
  {
   "cell_type": "code",
   "execution_count": null,
   "id": "fce9ec29",
   "metadata": {},
   "outputs": [
    {
     "data": {
      "image/png": "[encoded data removed]",
      "text/plain": [
       "<Figure size 1440x360 with 1 Axes>"
      ]
     },
     "metadata": {},
     "output_type": "display_data"
    }
   ],
   "source": [
    "schedule.every().hour.at(\":10\").do(chrontask)\n",
    "#schedule.every().minute.do(chrontask)\n",
    "\n",
    "while True:\n",
    "    schedule.run_pending()\n",
    "    time.sleep(1)"
   ]
  },
  {
   "cell_type": "code",
   "execution_count": null,
   "id": "c401c65f",
   "metadata": {},
   "outputs": [],
   "source": []
  }
 ],
 "metadata": {
  "kernelspec": {
   "display_name": "Python 3",
   "language": "python",
   "name": "python3"
  },
  "language_info": {
   "codemirror_mode": {
    "name": "ipython",
    "version": 3
   },
   "file_extension": ".py",
   "mimetype": "text/x-python",
   "name": "python",
   "nbconvert_exporter": "python",
   "pygments_lexer": "ipython3",
   "version": "3.8.10"
  }
 },
 "nbformat": 4,
 "nbformat_minor": 5
}
