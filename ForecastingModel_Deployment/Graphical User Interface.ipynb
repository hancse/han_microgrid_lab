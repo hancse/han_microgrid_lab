{
 "cells": [
  {
   "cell_type": "code",
   "execution_count": 1,
   "id": "9ea6d8c5",
   "metadata": {},
   "outputs": [],
   "source": [
    "import sqlite3\n",
    "import paramiko\n",
    "import ftplib\n",
    "import sys                               #for path                    \n",
    "import time                              #for time.sleep\n",
    "import pandas as pd\n",
    "import numpy as np                       #for np.array\n",
    "import matplotlib.pyplot as plt\n",
    "\n",
    "from IPython.display import clear_output\n",
    "from scipy.interpolate import interp1d   #for piecewise linear\n",
    "from IPython.display import display\n",
    "from pathlib import Path"
   ]
  },
  {
   "cell_type": "code",
   "execution_count": 2,
   "id": "e55e18c5",
   "metadata": {},
   "outputs": [],
   "source": [
    "import pathlib\n",
    "temp = pathlib.PosixPath\n",
    "pathlib.PosixPath = pathlib.WindowsPath"
   ]
  },
  {
   "cell_type": "code",
   "execution_count": 3,
   "id": "9528c945",
   "metadata": {},
   "outputs": [],
   "source": [
    "import TriPhaseController as tpc "
   ]
  },
  {
   "cell_type": "code",
   "execution_count": 4,
   "id": "7fc9ed1c",
   "metadata": {},
   "outputs": [],
   "source": [
    "db = tpc.Database()"
   ]
  },
  {
   "cell_type": "code",
   "execution_count": 5,
   "id": "e669e5cc",
   "metadata": {},
   "outputs": [],
   "source": [
    "import ipywidgets as widgets"
   ]
  },
  {
   "cell_type": "code",
   "execution_count": 6,
   "id": "c2ce2b56",
   "metadata": {},
   "outputs": [],
   "source": [
    "import pylab as pl\n",
    "#import bqplot as bq\n",
    "from IPython import display as cleardisplay"
   ]
  },
  {
   "cell_type": "code",
   "execution_count": 7,
   "id": "124baabe",
   "metadata": {},
   "outputs": [],
   "source": [
    "class color:\n",
    "   PURPLE = '\\033[95m'\n",
    "   CYAN = '\\033[96m'\n",
    "   DARKCYAN = '\\033[36m'\n",
    "   BLUE = '\\033[94m'\n",
    "   GREEN = '\\033[92m'\n",
    "   YELLOW = '\\033[93m'\n",
    "   RED = '\\033[91m'\n",
    "   BOLD = '\\033[1m'\n",
    "   UNDERLINE = '\\033[4m'\n",
    "   END = '\\033[0m'"
   ]
  },
  {
   "cell_type": "code",
   "execution_count": 8,
   "id": "76a1f59b",
   "metadata": {},
   "outputs": [],
   "source": [
    "def create_expanded_button(description, button_style):\n",
    "    return widgets.Button(description=description, button_style=button_style, layout=widgets.Layout(height='auto', width='auto'))\n",
    "def create_expanded_display(layout):\n",
    "    return widgets.Output(layout=layout)"
   ]
  },
  {
   "cell_type": "code",
   "execution_count": 9,
   "id": "5c7a9c90",
   "metadata": {},
   "outputs": [],
   "source": [
    "grid = widgets.GridspecLayout(13, 16, height='700px')\n",
    "\n",
    "grid[:1,2:4] = create_expanded_button('Download data', '')\n",
    "grid[:1,7:9] = create_expanded_button('Add time info', '')\n",
    "grid[:1,12:14] = create_expanded_button('Input', '')\n",
    "\n",
    "grid[1:7,0:3] = create_expanded_display(layout={'border': '1px solid black'})\n",
    "grid[1:7,3:6] = create_expanded_display(layout={'border': '1px solid black'})\n",
    "grid[1:7,6:10] = create_expanded_display(layout={'border': '1px solid black'})\n",
    "grid[1:7,10:16] = create_expanded_display(layout={'border': '1px solid black'})\n",
    "\n",
    "grid[7:8,7:9] = create_expanded_button('Run model', '')\n",
    "grid[8:,2:14] = create_expanded_display(layout={'border': '1px solid black'})"
   ]
  },
  {
   "cell_type": "code",
   "execution_count": 10,
   "id": "b0fcfe6a",
   "metadata": {},
   "outputs": [
    {
     "name": "stdout",
     "output_type": "stream",
     "text": [
      "\u001b[1mGraphical Interface to test the charging demand forecasting model\u001b[0m\n",
      "\t 1. DOWNLOAD DATA: Download data from the database through ssh connection and calculate accumulated hourly demand.\n",
      "\t 2. ADD TIME INFO: Extract information such as hour, day of week, holiday.\n",
      "\t 3. INPUT: The final data before being normalised.\n",
      "\t 4. RUN MODEL: Get the output of the model and show it in a graph.\n"
     ]
    }
   ],
   "source": [
    "import pytz\n",
    "netherlands = pytz.timezone('Europe/Amsterdam')\n",
    "\n",
    "import holidays\n",
    "\n",
    "from wwf.tab.export import *\n",
    "to_load = load_pandas('PP.pkl')\n",
    "\n",
    "from fastai.tabular.all import *\n",
    "\n",
    "# Custom loss for multi-point forecasting\n",
    "\n",
    "def multiPointLoss(actual, predicted):\n",
    "    scores = list()\n",
    "    # calculate an RMSE score for each day\n",
    "    for i in range(actual.shape[1]):\n",
    "        # calculate mse\n",
    "        mse = F.mse_loss(actual[:, i], predicted[:, i])\n",
    "        # calculate rmse\n",
    "        rmse = torch.sqrt(mse)\n",
    "        # store\n",
    "        scores.append(rmse)\n",
    "    # calculate overall RMSE\n",
    "    s = 0\n",
    "    for row in range(actual.shape[0]):\n",
    "        for col in range(actual.shape[1]):\n",
    "            s += (actual[row, col] - predicted[row, col])**2\n",
    "    score = torch.sqrt(s / (actual.shape[0] * actual.shape[1]))\n",
    "    return score\n",
    "\n",
    "learn = load_learner(\"FNN_multipoint_12p.pth\")\n",
    "learn.model.eval()\n",
    "print(color.BOLD + 'Graphical User Interface to test the charging demand forecasting model' + color.END)\n",
    "print('\\t 1. DOWNLOAD DATA: Download data from the database through ssh connection and calculate accumulated hourly demand.')\n",
    "print('\\t 2. ADD TIME INFO: Extract information such as hour, day of week, holiday.')\n",
    "print('\\t 3. INPUT: The final data before being normalised.')\n",
    "print('\\t 4. RUN MODEL: Get the output of the model and show it in a graph.')"
   ]
  },
  {
   "cell_type": "code",
   "execution_count": 11,
   "id": "d0e4c99f",
   "metadata": {},
   "outputs": [],
   "source": [
    "pv_df = None\n",
    "grid_df = None\n",
    "ev_df = None\n",
    "ev_df_in = None\n",
    "\n",
    "def on_download_click_fnc(b):\n",
    "    global pv_df\n",
    "    global grid_df\n",
    "    \n",
    "    pv_df = db.read_PV_df(4)\n",
    "    grid_df = db.read_Grid_df(4)\n",
    "    with grid[1,0]:\n",
    "        cleardisplay.clear_output(wait=True)\n",
    "        display(pv_df)\n",
    "    with grid[1,3]:\n",
    "        cleardisplay.clear_output(wait=True)\n",
    "        display(grid_df)\n",
    "    with grid[1,6]:\n",
    "        cleardisplay.clear_output(wait=True)\n",
    "    with grid[1,10]:\n",
    "        cleardisplay.clear_output(wait=True)\n",
    "    \n",
    "        \n",
    "def on_time_click_fnc(b):\n",
    "    global pv_df\n",
    "    global grid_df\n",
    "    global ev_df\n",
    "    \n",
    "    # Get current hour\n",
    "    hour_now = datetime.today().hour\n",
    "    \n",
    "    # Append the row for current hour if there is not one\n",
    "    new_time = datetime.now().replace(microsecond=0, second=0, minute=0)\n",
    "    \n",
    "    if pv_df.index[-1].tz_localize('GMT').tz_convert(netherlands).hour != hour_now:\n",
    "        new_data = pd.DataFrame(pv_df[-1:].values, index=[new_time], columns=pv_df.columns)\n",
    "        pv_df = pd.concat([pv_df,new_data])\n",
    "        \n",
    "    if grid_df.index[-1].tz_localize('GMT').tz_convert(netherlands).hour != hour_now:\n",
    "        new_data = pd.DataFrame(grid_df[-1:].values, index=[new_time], columns=grid_df.columns)\n",
    "        grid_df = pd.concat([grid_df,new_data])\n",
    "    \n",
    "    # Calculate the energy demand of previous hours\n",
    "    ev_df = grid_df.copy()\n",
    "    ev_df['Energy_kWh'] = pv_df['Energy_kWh'] - grid_df['Energy_kWh']\n",
    "    \n",
    "    # Get weekday and hour from time index\n",
    "    ev_df['weekday']=ev_df.index.tz_localize('GMT').tz_convert(netherlands).day_of_week\n",
    "    ev_df['hour']=ev_df.index.tz_localize('GMT').tz_convert(netherlands).hour\n",
    "    \n",
    "    # Mark the holidays\n",
    "    ev_df['hols'] = pd.Series(ev_df.index).apply(lambda x: holidays.CountryHoliday('NL').get(x)).values\n",
    "    \n",
    "    # Add HAN breaks\n",
    "    # https://www.hanuniversity.com/en/study-and-living/studying-at-han/academic-calendar/#\n",
    "    # https://schoolholidayseurope.eu/school-holidays-holland/\n",
    "    ev_df.loc[(ev_df.index > '2022-05-01 23:00:00') & (ev_df.index < '2022-05-09 00:00:00'), 'hols'] = 'May holiday'\n",
    "    ev_df.loc[(ev_df.index > '2022-07-10 23:00:00') & (ev_df.index < '2022-08-15 00:00:00'), 'hols'] = 'Summer break'\n",
    "    ev_df.loc[(ev_df.index > '2022-10-21 23:00:00') & (ev_df.index < '2022-11-01 00:00:00'), 'hols'] = 'Fall holiday'\n",
    "    ev_df.loc[(ev_df.index > '2022-12-23 23:00:00') & (ev_df.index < '2023-01-09 00:00:00'), 'hols'] = 'Winter break'\n",
    "    ev_df.loc[(ev_df.index > '2023-02-17 23:00:00') & (ev_df.index < '2023-02-27 00:00:00'), 'hols'] = 'Spring holiday'\n",
    "    \n",
    "    with grid[1,6]:\n",
    "        #cleardisplay.clear_output(wait=True)\n",
    "        display(ev_df)\n",
    "        \n",
    "def on_input_click_fnc(b):\n",
    "    global ev_df\n",
    "    global ev_df_in\n",
    "    \n",
    "    # Clean the data\n",
    "    ev_df.loc[ev_df.Energy_kWh < 0,'Energy_kWh'] = 0\n",
    "    ev_df['is_hol'] = ~ev_df.isna()['hols']\n",
    "    ev_df['measure'] = 0\n",
    "    \n",
    "    # Other information\n",
    "    ev_df['E_1'] = ev_df['Energy_kWh']\n",
    "    ev_df['E_2'] = ev_df['Energy_kWh']\n",
    "    ev_df['E_3'] = ev_df['Energy_kWh']\n",
    "    ev_df['E_1'] = ev_df.E_1.shift(1)\n",
    "    ev_df['E_2'] = ev_df.E_2.shift(2)\n",
    "    ev_df['E_3'] = ev_df.E_3.shift(3)\n",
    "    \n",
    "    # Drop un-used data\n",
    "    ev_df.reset_index(inplace=True, drop=True)\n",
    "    ev_df.drop(['Energy_kWh','hols'], axis=1, inplace=True)\n",
    "    \n",
    "    # Get only the row of previous hour\n",
    "    ev_df_in = ev_df.iloc[-1:,:].copy()\n",
    "    ev_df_in.reset_index(inplace=True, drop=True)\n",
    "    \n",
    "    # Create dummy data to run the model, the values are not important\n",
    "    ev_df_in.loc[:,'Energy_kWh'] = 0.0\n",
    "    ev_df_in.loc[:,'Energy_kWh_1'] = 0.0\n",
    "    ev_df_in.loc[:,'Energy_kWh_2'] = 0.0\n",
    "    ev_df_in.loc[:,'Energy_kWh_3'] = 0.0\n",
    "    ev_df_in.loc[:,'Energy_kWh_4'] = 0.0\n",
    "    ev_df_in.loc[:,'Energy_kWh_5'] = 0.0\n",
    "    ev_df_in.loc[:,'Energy_kWh_6'] = 0.0\n",
    "    ev_df_in.loc[:,'Energy_kWh_7'] = 0.0\n",
    "    ev_df_in.loc[:,'Energy_kWh_8'] = 0.0\n",
    "    ev_df_in.loc[:,'Energy_kWh_9'] = 0.0\n",
    "    ev_df_in.loc[:,'Energy_kWh_10'] = 0.0\n",
    "    ev_df_in.loc[:,'Energy_kWh_11'] = 0.0\n",
    "    \n",
    "    with grid[1,10]:\n",
    "        #cleardisplay.clear_output(wait=True)\n",
    "        display(ev_df_in)\n",
    "        \n",
    "def on_model_click_fnc(b):\n",
    "    global ev_df_in\n",
    "    global to_load\n",
    "    global learn\n",
    "    \n",
    "    # Preprocess data\n",
    "    to_test = to_load.train.new(ev_df_in)\n",
    "    to_test.process()\n",
    "    dls = to_test.dataloaders()\n",
    "    \n",
    "    # Predict\n",
    "    preds,targs = learn.get_preds(dl=dls[0])\n",
    "    \n",
    "    # Get current hour\n",
    "    hour_now = datetime.today().hour\n",
    "    \n",
    "    with grid[8,2]:\n",
    "        #print(preds[0].numpy())\n",
    "        Xlabels = np.arange(hour_now-3,hour_now+12)%24\n",
    "        \n",
    "        pl.clf()\n",
    "        plt.figure(figsize=(20,5))\n",
    "        plt.grid()\n",
    "        #plt.rcParams.update({'font.size': 17})\n",
    "        plt.title('Predictions of hourly charging demand in the next 12 hours', fontdict={'fontsize': 17}, y=-0.5)\n",
    "        plt.bar(np.arange(hour_now,hour_now+12),preds[0].numpy())\n",
    "        plt.bar(np.arange(hour_now-3,hour_now),[ev_df_in['E_3'][0],ev_df_in['E_2'][0],ev_df_in['E_1'][0]])\n",
    "        plt.xlabel('Time (hour)', position=(1.0, -.1), fontdict={'fontsize': 17})\n",
    "        plt.ylabel('Energy consumption (kWh)', position=(0.0, 1.1), rotation='horizontal', fontdict={'fontsize': 17})\n",
    "        plt.xticks(np.arange(hour_now-3,hour_now+12), Xlabels)\n",
    "\n",
    "        cleardisplay.clear_output(wait=True)\n",
    "        cleardisplay.display(pl.gcf())"
   ]
  },
  {
   "cell_type": "code",
   "execution_count": 12,
   "id": "9f540c26",
   "metadata": {},
   "outputs": [],
   "source": [
    "grid[0,2].on_click(on_download_click_fnc)\n",
    "grid[0,7].on_click(on_time_click_fnc)\n",
    "grid[0,12].on_click(on_input_click_fnc)\n",
    "grid[7,8].on_click(on_model_click_fnc)"
   ]
  },
  {
   "cell_type": "code",
   "execution_count": 13,
   "id": "407ee44b",
   "metadata": {},
   "outputs": [
    {
     "data": {
      "application/vnd.jupyter.widget-view+json": {
       "model_id": "8748cc0b51f247db9f1ce03980c342bc",
       "version_major": 2,
       "version_minor": 0
      },
      "text/plain": [
       "GridspecLayout(children=(Button(description='Download data', layout=Layout(grid_area='widget001', height='auto…"
      ]
     },
     "metadata": {},
     "output_type": "display_data"
    },
    {
     "data": {
      "text/html": [
       "\n",
       "<style>\n",
       "    /* Turns off some styling */\n",
       "    progress {\n",
       "        /* gets rid of default border in Firefox and Opera. */\n",
       "        border: none;\n",
       "        /* Needs to be in here for Safari polyfill so background images work as expected. */\n",
       "        background-size: auto;\n",
       "    }\n",
       "    .progress-bar-interrupted, .progress-bar-interrupted::-webkit-progress-bar {\n",
       "        background: #F44336;\n",
       "    }\n",
       "</style>\n"
      ],
      "text/plain": [
       "<IPython.core.display.HTML object>"
      ]
     },
     "metadata": {},
     "output_type": "display_data"
    },
    {
     "data": {
      "text/html": [],
      "text/plain": [
       "<IPython.core.display.HTML object>"
      ]
     },
     "metadata": {},
     "output_type": "display_data"
    },
    {
     "data": {
      "text/plain": [
       "<Figure size 432x288 with 0 Axes>"
      ]
     },
     "metadata": {},
     "output_type": "display_data"
    },
    {
     "data": {
      "image/png": "[encoded data removed]",
      "text/plain": [
       "<Figure size 1440x360 with 1 Axes>"
      ]
     },
     "metadata": {
      "needs_background": "light"
     },
     "output_type": "display_data"
    }
   ],
   "source": [
    "grid"
   ]
  },
  {
   "cell_type": "code",
   "execution_count": null,
   "id": "b237af8a",
   "metadata": {},
   "outputs": [],
   "source": []
  }
 ],
 "metadata": {
  "kernelspec": {
   "display_name": "Python 3",
   "language": "python",
   "name": "python3"
  },
  "language_info": {
   "codemirror_mode": {
    "name": "ipython",
    "version": 3
   },
   "file_extension": ".py",
   "mimetype": "text/x-python",
   "name": "python",
   "nbconvert_exporter": "python",
   "pygments_lexer": "ipython3",
   "version": "3.8.10"
  }
 },
 "nbformat": 4,
 "nbformat_minor": 5
}
